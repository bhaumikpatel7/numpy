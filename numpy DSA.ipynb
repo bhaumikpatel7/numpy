{
 "cells": [
  {
   "cell_type": "code",
   "execution_count": 1,
   "id": "5427715b",
   "metadata": {},
   "outputs": [],
   "source": [
    "import numpy as np"
   ]
  },
  {
   "cell_type": "code",
   "execution_count": 2,
   "id": "5d8d1de1",
   "metadata": {},
   "outputs": [],
   "source": [
    "l1=([1,2,3,4])"
   ]
  },
  {
   "cell_type": "code",
   "execution_count": 3,
   "id": "72c47166",
   "metadata": {},
   "outputs": [],
   "source": [
    "n1=np.array(l1) #1D array"
   ]
  },
  {
   "cell_type": "code",
   "execution_count": 4,
   "id": "8d597c53",
   "metadata": {},
   "outputs": [
    {
     "data": {
      "text/plain": [
       "array([1, 2, 3, 4])"
      ]
     },
     "execution_count": 4,
     "metadata": {},
     "output_type": "execute_result"
    }
   ],
   "source": [
    "n1"
   ]
  },
  {
   "cell_type": "code",
   "execution_count": 5,
   "id": "afd89f53",
   "metadata": {},
   "outputs": [
    {
     "data": {
      "text/plain": [
       "numpy.ndarray"
      ]
     },
     "execution_count": 5,
     "metadata": {},
     "output_type": "execute_result"
    }
   ],
   "source": [
    "type(n1)"
   ]
  },
  {
   "cell_type": "code",
   "execution_count": 6,
   "id": "0a9e674e",
   "metadata": {},
   "outputs": [],
   "source": [
    "l2=([[1,2,3],[3,4,4]]) #2-D array"
   ]
  },
  {
   "cell_type": "code",
   "execution_count": 7,
   "id": "0e033faf",
   "metadata": {},
   "outputs": [],
   "source": [
    "n2=np.array(l2)"
   ]
  },
  {
   "cell_type": "code",
   "execution_count": 8,
   "id": "b828c584",
   "metadata": {},
   "outputs": [
    {
     "data": {
      "text/plain": [
       "array([[1, 2, 3],\n",
       "       [3, 4, 4]])"
      ]
     },
     "execution_count": 8,
     "metadata": {},
     "output_type": "execute_result"
    }
   ],
   "source": [
    "n2"
   ]
  },
  {
   "cell_type": "code",
   "execution_count": 9,
   "id": "5ed6c168",
   "metadata": {},
   "outputs": [
    {
     "data": {
      "text/plain": [
       "numpy.ndarray"
      ]
     },
     "execution_count": 9,
     "metadata": {},
     "output_type": "execute_result"
    }
   ],
   "source": [
    "type(n2)"
   ]
  },
  {
   "cell_type": "code",
   "execution_count": 10,
   "id": "3b3a6262",
   "metadata": {},
   "outputs": [],
   "source": [
    "n3=np.zeros((2,3))"
   ]
  },
  {
   "cell_type": "code",
   "execution_count": 11,
   "id": "6f9e102d",
   "metadata": {},
   "outputs": [
    {
     "data": {
      "text/plain": [
       "array([[0., 0., 0.],\n",
       "       [0., 0., 0.]])"
      ]
     },
     "execution_count": 11,
     "metadata": {},
     "output_type": "execute_result"
    }
   ],
   "source": [
    "n3"
   ]
  },
  {
   "cell_type": "code",
   "execution_count": 12,
   "id": "1afbdc42",
   "metadata": {},
   "outputs": [
    {
     "data": {
      "text/plain": [
       "numpy.ndarray"
      ]
     },
     "execution_count": 12,
     "metadata": {},
     "output_type": "execute_result"
    }
   ],
   "source": [
    "type(n3)"
   ]
  },
  {
   "cell_type": "code",
   "execution_count": 13,
   "id": "cecad5e3",
   "metadata": {},
   "outputs": [],
   "source": [
    "n4=np.full((3,3),10) #assign 10 value in the maxtrix"
   ]
  },
  {
   "cell_type": "code",
   "execution_count": 14,
   "id": "d9c30c06",
   "metadata": {},
   "outputs": [
    {
     "data": {
      "text/plain": [
       "array([[10, 10, 10],\n",
       "       [10, 10, 10],\n",
       "       [10, 10, 10]])"
      ]
     },
     "execution_count": 14,
     "metadata": {},
     "output_type": "execute_result"
    }
   ],
   "source": [
    "n4"
   ]
  },
  {
   "cell_type": "code",
   "execution_count": 15,
   "id": "3d859fe0",
   "metadata": {},
   "outputs": [],
   "source": [
    "n5=np.arange(10,20)"
   ]
  },
  {
   "cell_type": "code",
   "execution_count": 16,
   "id": "91bed779",
   "metadata": {},
   "outputs": [
    {
     "data": {
      "text/plain": [
       "array([10, 11, 12, 13, 14, 15, 16, 17, 18, 19])"
      ]
     },
     "execution_count": 16,
     "metadata": {},
     "output_type": "execute_result"
    }
   ],
   "source": [
    "n5"
   ]
  },
  {
   "cell_type": "code",
   "execution_count": 17,
   "id": "26ce7b41",
   "metadata": {},
   "outputs": [],
   "source": [
    "n6=np.arange(10,20,1)"
   ]
  },
  {
   "cell_type": "code",
   "execution_count": 18,
   "id": "cf2f2e06",
   "metadata": {},
   "outputs": [
    {
     "data": {
      "text/plain": [
       "array([10, 11, 12, 13, 14, 15, 16, 17, 18, 19])"
      ]
     },
     "execution_count": 18,
     "metadata": {},
     "output_type": "execute_result"
    }
   ],
   "source": [
    "n6"
   ]
  },
  {
   "cell_type": "code",
   "execution_count": 19,
   "id": "ada3aa92",
   "metadata": {},
   "outputs": [],
   "source": [
    "n6=np.arange(10,20,0.5)"
   ]
  },
  {
   "cell_type": "code",
   "execution_count": 20,
   "id": "d3bf47f2",
   "metadata": {},
   "outputs": [
    {
     "data": {
      "text/plain": [
       "array([10. , 10.5, 11. , 11.5, 12. , 12.5, 13. , 13.5, 14. , 14.5, 15. ,\n",
       "       15.5, 16. , 16.5, 17. , 17.5, 18. , 18.5, 19. , 19.5])"
      ]
     },
     "execution_count": 20,
     "metadata": {},
     "output_type": "execute_result"
    }
   ],
   "source": [
    "n6"
   ]
  },
  {
   "cell_type": "code",
   "execution_count": 21,
   "id": "eb1577f9",
   "metadata": {},
   "outputs": [
    {
     "data": {
      "text/plain": [
       "array([131, 157, 159, 104, 191, 102, 175, 119, 165, 144, 195, 170, 190,\n",
       "       155, 136, 122, 121, 191, 158, 102, 177, 103, 187, 179, 194, 122,\n",
       "       161, 120, 151, 142, 104, 158, 146, 161, 105, 155, 170, 131, 164,\n",
       "       109])"
      ]
     },
     "execution_count": 21,
     "metadata": {},
     "output_type": "execute_result"
    }
   ],
   "source": [
    "np.random.randint(100,200,40) #getting random numbers"
   ]
  },
  {
   "cell_type": "code",
   "execution_count": 22,
   "id": "924119ab",
   "metadata": {},
   "outputs": [
    {
     "data": {
      "text/plain": [
       "(3, 3)"
      ]
     },
     "execution_count": 22,
     "metadata": {},
     "output_type": "execute_result"
    }
   ],
   "source": [
    "n4.shape"
   ]
  },
  {
   "cell_type": "markdown",
   "id": "fdc57461",
   "metadata": {},
   "source": []
  },
  {
   "cell_type": "code",
   "execution_count": 23,
   "id": "05bdf940",
   "metadata": {},
   "outputs": [
    {
     "data": {
      "text/plain": [
       "(2, 3)"
      ]
     },
     "execution_count": 23,
     "metadata": {},
     "output_type": "execute_result"
    }
   ],
   "source": [
    "n3.shape"
   ]
  },
  {
   "cell_type": "code",
   "execution_count": 24,
   "id": "99c6f19c",
   "metadata": {},
   "outputs": [
    {
     "data": {
      "text/plain": [
       "array([[ 0.,  0.,  0.],\n",
       "       [ 0.,  0.,  0.],\n",
       "       [10., 10., 10.],\n",
       "       [10., 10., 10.],\n",
       "       [10., 10., 10.]])"
      ]
     },
     "execution_count": 24,
     "metadata": {},
     "output_type": "execute_result"
    }
   ],
   "source": [
    "np.vstack((n3,n4)) #verticle stack"
   ]
  },
  {
   "cell_type": "code",
   "execution_count": 25,
   "id": "fbc61244",
   "metadata": {},
   "outputs": [
    {
     "data": {
      "text/plain": [
       "array([10. , 11. , 12. , 13. , 14. , 15. , 16. , 17. , 18. , 19. , 10. ,\n",
       "       10.5, 11. , 11.5, 12. , 12.5, 13. , 13.5, 14. , 14.5, 15. , 15.5,\n",
       "       16. , 16.5, 17. , 17.5, 18. , 18.5, 19. , 19.5])"
      ]
     },
     "execution_count": 25,
     "metadata": {},
     "output_type": "execute_result"
    }
   ],
   "source": [
    "np.hstack((n5,n6)) #horizontal stack"
   ]
  },
  {
   "cell_type": "code",
   "execution_count": 26,
   "id": "9504c6c9",
   "metadata": {},
   "outputs": [],
   "source": [
    "a1=np.array([10,20,30,40,50,60,70,80])\n",
    "a2=np.array([40,50,60,70,90,100])"
   ]
  },
  {
   "cell_type": "code",
   "execution_count": 27,
   "id": "c4b714e4",
   "metadata": {},
   "outputs": [
    {
     "data": {
      "text/plain": [
       "array([40, 50, 60, 70])"
      ]
     },
     "execution_count": 27,
     "metadata": {},
     "output_type": "execute_result"
    }
   ],
   "source": [
    "np.intersect1d(a1,a2) # common values"
   ]
  },
  {
   "cell_type": "code",
   "execution_count": 28,
   "id": "2df2fe9b",
   "metadata": {},
   "outputs": [
    {
     "data": {
      "text/plain": [
       "array([10, 20, 30, 80])"
      ]
     },
     "execution_count": 28,
     "metadata": {},
     "output_type": "execute_result"
    }
   ],
   "source": [
    "np.setdiff1d(a1,a2) # a1-a2 = means unique values of a1"
   ]
  },
  {
   "cell_type": "code",
   "execution_count": 29,
   "id": "3604e958",
   "metadata": {},
   "outputs": [
    {
     "data": {
      "text/plain": [
       "array([ 90, 100])"
      ]
     },
     "execution_count": 29,
     "metadata": {},
     "output_type": "execute_result"
    }
   ],
   "source": [
    "np.setdiff1d(a2,a1) # a2-a1 = means unique values of a2"
   ]
  },
  {
   "cell_type": "code",
   "execution_count": 32,
   "id": "8f7b0735",
   "metadata": {},
   "outputs": [
    {
     "data": {
      "text/plain": [
       "14.75"
      ]
     },
     "execution_count": 32,
     "metadata": {},
     "output_type": "execute_result"
    }
   ],
   "source": [
    "np.mean(n6)"
   ]
  },
  {
   "cell_type": "code",
   "execution_count": 37,
   "id": "30718ee1",
   "metadata": {},
   "outputs": [
    {
     "data": {
      "text/plain": [
       "2.5"
      ]
     },
     "execution_count": 37,
     "metadata": {},
     "output_type": "execute_result"
    }
   ],
   "source": [
    "np.median(n1)"
   ]
  },
  {
   "cell_type": "code",
   "execution_count": 35,
   "id": "9299f26c",
   "metadata": {},
   "outputs": [
    {
     "data": {
      "text/plain": [
       "2.883140648667699"
      ]
     },
     "execution_count": 35,
     "metadata": {},
     "output_type": "execute_result"
    }
   ],
   "source": [
    "np.std(n6)"
   ]
  }
 ],
 "metadata": {
  "kernelspec": {
   "display_name": "Python 3 (ipykernel)",
   "language": "python",
   "name": "python3"
  },
  "language_info": {
   "codemirror_mode": {
    "name": "ipython",
    "version": 3
   },
   "file_extension": ".py",
   "mimetype": "text/x-python",
   "name": "python",
   "nbconvert_exporter": "python",
   "pygments_lexer": "ipython3",
   "version": "3.9.12"
  }
 },
 "nbformat": 4,
 "nbformat_minor": 5
}
